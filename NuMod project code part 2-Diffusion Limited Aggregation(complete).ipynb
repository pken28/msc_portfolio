{
 "cells": [
  {
   "cell_type": "markdown",
   "metadata": {},
   "source": [
    "_Paige Champken<br>\n",
    "Year 3 Computing Project<br>\n",
    "Random Walks: Diffusion Limited Aggregation<br>\n",
    "29/1/2020_"
   ]
  },
  {
   "cell_type": "markdown",
   "metadata": {},
   "source": [
    "# Part 3: Diffusion Limited Aggregation"
   ]
  },
  {
   "cell_type": "code",
   "execution_count": 1,
   "metadata": {},
   "outputs": [],
   "source": [
    "import numpy as np\n",
    "import matplotlib.pyplot as plt\n",
    "%matplotlib inline\n",
    "import scipy.stats as stats"
   ]
  },
  {
   "cell_type": "code",
   "execution_count": 2,
   "metadata": {},
   "outputs": [],
   "source": [
    "#This function checks if a walker is going to stick to a previous seed.\n",
    "\n",
    "def does_seed_stick(seedlist, pos, stick=False):      #inputs: list of locations of previous seeds and current position of walker\n",
    "    for seed in seedlist:                             #looping through every seed\n",
    "        if seed[0]==pos[0] and seed[1]==(pos[1]+1):   #check if the walker is adjacent to that seed either above, below, to the left, or to the right\n",
    "            stick=True\n",
    "        if seed[0]==pos[0] and seed[1]==(pos[1]-1):\n",
    "            stick=True\n",
    "        if seed[1]==pos[1] and seed[0]==(pos[0]+1):\n",
    "            stick=True  \n",
    "        if seed[1]==pos[1] and seed[0]==(pos[0]-1):\n",
    "            stick=True\n",
    "    return stick                                     \n",
    "\n",
    "#function will return True if the walker should stick and False otherwise."
   ]
  },
  {
   "cell_type": "code",
   "execution_count": 3,
   "metadata": {},
   "outputs": [],
   "source": [
    "#This function checks whether the walker has gone outside a chosen boundary.\n",
    "#The walker can stray up to 5 units from the perimeter of generation. \n",
    "#After this it will be discounted and regenerated at the boundary.\n",
    "\n",
    "def is_seed_in_boundary(pos, squaresize, within_boundary=False):        #inputs: position and perimeter size\n",
    "    if pos[0]<(squaresize/2)+5 and pos[0]>(-squaresize/2)-5 and pos[1]<(squaresize/2)+5 and pos[1]>(-squaresize/2)-5:\n",
    "        within_boundary=True\n",
    "    return within_boundary\n",
    "\n",
    "#function returns True if the walker is within 5 units of the perimeter in any direction and False otherwise."
   ]
  },
  {
   "cell_type": "code",
   "execution_count": 4,
   "metadata": {},
   "outputs": [],
   "source": [
    "#This function generates a random point on a square shaped perimeter.\n",
    "#Edge length of perimeter must be even as the walker takes steps in only integer units\n",
    "#and the first seed is at (0,0).\n",
    "\n",
    "def point_on_perim(edgelength):           #input: edge length of the perimeter\n",
    "    if edgelength % 2 != 0:        \n",
    "        return print('Please input even edge length')   \n",
    "    else:\n",
    "        edge=np.random.randint(1,5)       #randomly choose an edge by assigning each edge a number - top:1, right:2, bottom:3, left:4\n",
    "        if edge==1:                       #once an edge is chosen, choose random point on that line for second coordinate\n",
    "            x=np.random.randint(-edgelength/2, (edgelength/2)+1)\n",
    "            y=edgelength/2\n",
    "        if edge==2:\n",
    "            x=edgelength/2\n",
    "            y=np.random.randint(-edgelength/2, (edgelength/2)+1)\n",
    "        if edge==3:\n",
    "            x=np.random.randint(-edgelength/2, (edgelength/2)+1)\n",
    "            y=-edgelength/2\n",
    "        if edge==4:\n",
    "            x=-edgelength/2\n",
    "            y=np.random.randint(-edgelength/2, (edgelength/2)+1)\n",
    "    pos=[x, y]\n",
    "    return pos     \n",
    "\n",
    "#function returns edge position."
   ]
  },
  {
   "cell_type": "code",
   "execution_count": 5,
   "metadata": {},
   "outputs": [],
   "source": [
    "#This function makes the walker take a step.\n",
    "\n",
    "def take_a_step(pos):                #input: an initial position\n",
    "    step_dir=np.random.randint(1,5)  #randomly choose a direction by assigning each direction a number - up:1, right:2, down:3, left:4\n",
    "    if step_dir==1:                  #alter x and y coordinate of position depending on step direction\n",
    "        new_x=pos[0]\n",
    "        new_y=pos[1]+1\n",
    "    if step_dir==2:\n",
    "        new_x=pos[0]+1\n",
    "        new_y=pos[1]\n",
    "    if step_dir==3:\n",
    "        new_x=pos[0]\n",
    "        new_y=pos[1]-1\n",
    "    if step_dir==4:\n",
    "        new_x=pos[0]-1\n",
    "        new_y=pos[1]\n",
    "    newpos=[new_x, new_y]\n",
    "    return newpos\n",
    "\n",
    "#funciton returns new position."
   ]
  },
  {
   "cell_type": "code",
   "execution_count": 6,
   "metadata": {},
   "outputs": [],
   "source": [
    "#This function produces the seed data for the diffusion limited aggregate.\n",
    "\n",
    "def myDLAdata(m, squaresize):               #inputs: number of walkers and size of perimeter\n",
    "    mwalks=np.linspace(1, m, m)             #create generic array with the same number of elements as walkers\n",
    "    seeds = np.zeros((m+1, 2))              #create empty seed list of coordinates, with the same number of points as walkers\n",
    "    seeds[0,:]=[0,0]                        #create first seed at (0,0)\n",
    "    for i, walk in enumerate(mwalks):                         #looping through every walker:\n",
    "        pos=point_on_perim(squaresize)                        #generate a random point on perimeter\n",
    "        while does_seed_stick(seeds, pos)==False:             #check if the walker sticks to previous seed\n",
    "            if is_seed_in_boundary(pos, squaresize)==True:      #if walker is not stuck, check that it's within boundary\n",
    "                newpos=take_a_step(pos)                           #if walker is within boundary, take a step, loop back to check if it's stuck\n",
    "                pos=newpos                                \n",
    "            else:                                             \n",
    "                pos=point_on_perim(squaresize)                  #if walker exits the boundary, generate a new point, loop back to check if it's stuck\n",
    "        else:                                            \n",
    "            seeds[i+1,:]=pos                                  #if walker is stuck, add it's position to seed list and begin next walk\n",
    "    return seeds\n",
    "\n",
    "#function returns list of the location of every seed."
   ]
  },
  {
   "cell_type": "code",
   "execution_count": 7,
   "metadata": {},
   "outputs": [],
   "source": [
    "#Now to generate an image of a DLA. Produce some data with chosen perimeter size and number of walkers.\n",
    "\n",
    "DLA=myDLAdata(400,80)\n",
    "\n",
    "#The 400 walker DLA within a square with an edgelength of 80 is the largest that runs for me in a sensible amount of time.  "
   ]
  },
  {
   "cell_type": "code",
   "execution_count": 8,
   "metadata": {},
   "outputs": [
    {
     "data": {
      "text/plain": [
       "[<matplotlib.lines.Line2D at 0x251473a8048>]"
      ]
     },
     "execution_count": 8,
     "metadata": {},
     "output_type": "execute_result"
    },
    {
     "data": {
      "image/png": "[encoded data removed]",
      "text/plain": [
       "<Figure size 432x288 with 1 Axes>"
      ]
     },
     "metadata": {
      "needs_background": "light"
     },
     "output_type": "display_data"
    }
   ],
   "source": [
    "#Isolate the x and y coordinates of each point to plot an image.\n",
    "\n",
    "DLA_xcoords=[data[0] for data in DLA]\n",
    "DLA_ycoords=[data[1] for data in DLA]\n",
    "\n",
    "plt.plot(DLA_xcoords, DLA_ycoords, 'r o')"
   ]
  },
  {
   "cell_type": "code",
   "execution_count": 9,
   "metadata": {},
   "outputs": [],
   "source": [
    "#To find fractal dimension, first the radius of the DLA must be found to find the volume containing the fractal.\n",
    "#This function finds the distance to the seed furthest from the origin. \n",
    "\n",
    "def max_DLA_distance(DLAdata):   #input: seed locations\n",
    "    distances=[]                 #create empty list of distances\n",
    "    for point in DLAdata:        #loop through every seed \n",
    "        D=np.sqrt(point[0]**2 + point[1]**2)  #find the distance from the seed to the origin with pythagoras \n",
    "        distances.append(D)                   #add to list of distances\n",
    "    max_distance=np.amax(distances)           #function returns highest value in this list.\n",
    "    return max_distance"
   ]
  },
  {
   "cell_type": "code",
   "execution_count": 13,
   "metadata": {},
   "outputs": [
    {
     "name": "stdout",
     "output_type": "stream",
     "text": [
      "1.8152672362167448\n"
     ]
    }
   ],
   "source": [
    "#Fractal dimension=log(N)/log(R), this function uses this to output the fractal dimension.\n",
    "\n",
    "def fractal_dimension(DLAdata):\n",
    "    R=max_DLA_distance(DLAdata)\n",
    "    N=len(DLAdata)\n",
    "    fd=np.log(N)/np.log(R)\n",
    "    return fd\n",
    "\n",
    "print(fractal_dimension(DLA))"
   ]
  },
  {
   "cell_type": "code",
   "execution_count": null,
   "metadata": {},
   "outputs": [],
   "source": []
  }
 ],
 "metadata": {
  "kernelspec": {
   "display_name": "Python 3",
   "language": "python",
   "name": "python3"
  },
  "language_info": {
   "codemirror_mode": {
    "name": "ipython",
    "version": 3
   },
   "file_extension": ".py",
   "mimetype": "text/x-python",
   "name": "python",
   "nbconvert_exporter": "python",
   "pygments_lexer": "ipython3",
   "version": "3.7.3"
  }
 },
 "nbformat": 4,
 "nbformat_minor": 2
}
